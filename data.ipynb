{
 "cells": [
  {
   "cell_type": "code",
   "execution_count": 16,
   "metadata": {
    "collapsed": true
   },
   "outputs": [],
   "source": [
    "import pandas as pd\n",
    "from pprint import pprint"
   ]
  },
  {
   "cell_type": "code",
   "execution_count": 41,
   "metadata": {
    "collapsed": true
   },
   "outputs": [],
   "source": [
    "test = \"\"\"name\tholder\tpercentage\n",
    "Arima Communicacoes Brasil Ltda\t王大明\t50.00%\n",
    "Arima Communicacoes Brasil Ltda\t華冠通訊股份有限公司\t50.00%\n",
    "Technovation (Cayman) Corp.\t華冠通訊股份有限公司\t100.00%\n",
    "Arima Communication (Cayman) Corp.\t華冠通訊股份有限公司\t100.00%\n",
    "冠如投資股份有限公司\t華冠通訊股份有限公司\t100.00%\n",
    "冠達智能科技股份有限公司\t華冠通訊股份有限公司\t100.00%\n",
    "創生投資股份有限公司\t華冠通訊股份有限公司\t100.00%\n",
    "華彩創意股份有限公司\t華冠通訊股份有限公司\t100.00%\n",
    "重慶創華科技有限公司\t華冠通訊股份有限公司\t40.00%\n",
    "華信光電股份有限公司\t華冠通訊股份有限公司\t19.89%\n",
    "華冠通訊(江蘇)有限公司\tArima Communication (Cayman) Corp.\t100.00%\n",
    "利達通信(蘇州)有限公司\tArima Communication (Cayman) Corp.\t100.00%\n",
    "華宇科技(南京)有限公司\tArima Communication (Cayman) Corp.\t100.00%\n",
    "宇詮國際貿易(上海)有限公司\tArima Communication (Cayman) Corp.\t100.00%\n",
    "華冠科技(浙江)有限公司\tArima Communication (Cayman) Corp.\t100.00%\n",
    "PT Adi Reka Mandri\tArima Communication (Cayman) Corp.\t45.00%\n",
    "華昌能源股份有限公司\t冠如投資股份有限公司\t96.62%\n",
    "Nexus Management Ltd.\t冠如投資股份有限公司\t100.00%\n",
    "德田農業生技股份有限公司\t創生投資股份有限公司\t99.01%\n",
    "光利能源股份有限公司\t華昌能源股份有限公司\t100.00%\n",
    "Qichuang Global Limited\tNexus Management Ltd.\t30.00%\"\"\"\n",
    "\n",
    "data = []\n",
    "for row in test.split('\\n'):\n",
    "    row = row.split('\\t')\n",
    "    row_dict = {}\n",
    "    row_dict[\"name\"] = row[0]\n",
    "    row_dict[\"holder\"] = row[1] \n",
    "    row_dict[\"percentage\"] = row[2] \n",
    "    row_dict[\"x\"] = 0 \n",
    "    row_dict[\"y\"] = 0 \n",
    "\n",
    "    data.append(row_dict)\n",
    "data = data[1:]"
   ]
  },
  {
   "cell_type": "code",
   "execution_count": 42,
   "metadata": {},
   "outputs": [
    {
     "data": {
      "text/plain": [
       "\"[{'name': 'Arima Communicacoes Brasil Ltda', 'holder': '王大明', 'percentage': '50.00%'}, {'name': 'Arima Communicacoes Brasil Ltda', 'holder': '華冠通訊股份有限公司', 'percentage': '50.00%'}, {'name': 'Technovation (Cayman) Corp.', 'holder': '華冠通訊股份有限公司', 'percentage': '100.00%'}, {'name': 'Arima Communication (Cayman) Corp.', 'holder': '華冠通訊股份有限公司', 'percentage': '100.00%'}, {'name': '冠如投資股份有限公司', 'holder': '華冠通訊股份有限公司', 'percentage': '100.00%'}, {'name': '冠達智能科技股份有限公司', 'holder': '華冠通訊股份有限公司', 'percentage': '100.00%'}, {'name': '創生投資股份有限公司', 'holder': '華冠通訊股份有限公司', 'percentage': '100.00%'}, {'name': '華彩創意股份有限公司', 'holder': '華冠通訊股份有限公司', 'percentage': '100.00%'}, {'name': '重慶創華科技有限公司', 'holder': '華冠通訊股份有限公司', 'percentage': '40.00%'}, {'name': '華信光電股份有限公司', 'holder': '華冠通訊股份有限公司', 'percentage': '19.89%'}, {'name': '華冠通訊(江蘇)有限公司', 'holder': 'Arima Communication (Cayman) Corp.', 'percentage': '100.00%'}, {'name': '利達通信(蘇州)有限公司', 'holder': 'Arima Communication (Cayman) Corp.', 'percentage': '100.00%'}, {'name': '華宇科技(南京)有限公司', 'holder': 'Arima Communication (Cayman) Corp.', 'percentage': '100.00%'}, {'name': '宇詮國際貿易(上海)有限公司', 'holder': 'Arima Communication (Cayman) Corp.', 'percentage': '100.00%'}, {'name': '華冠科技(浙江)有限公司', 'holder': 'Arima Communication (Cayman) Corp.', 'percentage': '100.00%'}, {'name': 'PT Adi Reka Mandri', 'holder': 'Arima Communication (Cayman) Corp.', 'percentage': '45.00%'}, {'name': '華昌能源股份有限公司', 'holder': '冠如投資股份有限公司', 'percentage': '96.62%'}, {'name': 'Nexus Management Ltd.', 'holder': '冠如投資股份有限公司', 'percentage': '100.00%'}, {'name': '德田農業生技股份有限公司', 'holder': '創生投資股份有限公司', 'percentage': '99.01%'}, {'name': '光利能源股份有限公司', 'holder': '華昌能源股份有限公司', 'percentage': '100.00%'}, {'name': 'Qichuang Global Limited', 'holder': 'Nexus Management Ltd.', 'percentage': '30.00%'}]\""
      ]
     },
     "execution_count": 42,
     "metadata": {},
     "output_type": "execute_result"
    }
   ],
   "source": [
    "df = pd.DataFrame(data)[[\"name\", \"holder\", \"percentage\"]]\n",
    "str(list(df.T.to_dict().values()))"
   ]
  },
  {
   "cell_type": "code",
   "execution_count": null,
   "metadata": {
    "collapsed": true
   },
   "outputs": [],
   "source": []
  }
 ],
 "metadata": {
  "kernelspec": {
   "display_name": "Python 3",
   "language": "python",
   "name": "python3"
  },
  "language_info": {
   "codemirror_mode": {
    "name": "ipython",
    "version": 3
   },
   "file_extension": ".py",
   "mimetype": "text/x-python",
   "name": "python",
   "nbconvert_exporter": "python",
   "pygments_lexer": "ipython3",
   "version": "3.5.3"
  }
 },
 "nbformat": 4,
 "nbformat_minor": 2
}
